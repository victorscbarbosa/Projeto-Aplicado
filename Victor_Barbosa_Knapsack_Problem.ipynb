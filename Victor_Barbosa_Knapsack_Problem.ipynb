{
  "nbformat": 4,
  "nbformat_minor": 0,
  "metadata": {
    "colab": {
      "provenance": []
    },
    "kernelspec": {
      "name": "python3",
      "display_name": "Python 3"
    },
    "language_info": {
      "name": "python"
    }
  },
  "cells": [
    {
      "cell_type": "markdown",
      "source": [
        "**PROJETO APLICADO - ANÁLISE PREDITIVA E VANTAGEM COMPETITIVA**\n",
        "\n",
        "Professor: Sergio Monteiro\n",
        "\n",
        "Aluno: Victor dos Santos Correa Barbosa"
      ],
      "metadata": {
        "id": "UgfUyFSzj7rM"
      }
    },
    {
      "cell_type": "markdown",
      "source": [
        "**Instalação do pacote mip**\n",
        "documentação do pacote MIP: https://python-mip.readthedocs.io/en/latest/classes.html"
      ],
      "metadata": {
        "id": "zrZCW5JApbnp"
      }
    },
    {
      "cell_type": "code",
      "source": [
        "!pip install mip"
      ],
      "metadata": {
        "colab": {
          "base_uri": "https://localhost:8080/"
        },
        "id": "6-LK8pE7poCF",
        "outputId": "63ce3df4-2de2-41e9-ad59-91157fa35060"
      },
      "execution_count": 25,
      "outputs": [
        {
          "output_type": "stream",
          "name": "stdout",
          "text": [
            "Looking in indexes: https://pypi.org/simple, https://us-python.pkg.dev/colab-wheels/public/simple/\n",
            "Requirement already satisfied: mip in /usr/local/lib/python3.8/dist-packages (1.15.0)\n",
            "Requirement already satisfied: cffi==1.15.* in /usr/local/lib/python3.8/dist-packages (from mip) (1.15.1)\n",
            "Requirement already satisfied: pycparser in /usr/local/lib/python3.8/dist-packages (from cffi==1.15.*->mip) (2.21)\n"
          ]
        }
      ]
    },
    {
      "cell_type": "markdown",
      "source": [
        "**Formulação do Modelo do problema da mochila (knapsack problem)**\n",
        "\\begin{eqnarray}\n",
        "\\max \\ 4\\ x_{1} &+ 6\\ x_{2}+5\\ x_{3}+3\\ x_{4}+1\\ x_{5} \\\\\n",
        "\\mbox{sujeito a:}&  \\\\\n",
        "5\\ x_{1} + 4\\ x_{2} &+3\\ x_{3}+2\\ x_{4}+1\\ x_{5}+ \\leq 10  \n",
        "\\end{eqnarray}\n",
        "\n",
        "\n",
        "Além disso $x$ é um vetor inteiro com valores não-negativos."
      ],
      "metadata": {
        "id": "LXqDWRrsp1Fe"
      }
    },
    {
      "cell_type": "code",
      "source": [
        "from mip import Model, maximize, CBC, INTEGER, OptimizationStatus, BINARY, xsum\n"
      ],
      "metadata": {
        "id": "3wY8nNusqzMc"
      },
      "execution_count": 26,
      "outputs": []
    },
    {
      "cell_type": "code",
      "source": [
        "coef_funcao_objetivo = [4, 6, 5, 3, 1]\n",
        "coef_restr = [5, 4, 3, 2, 1]\n",
        "termo_independente = 10"
      ],
      "metadata": {
        "id": "i_Bg2bf6qtdX"
      },
      "execution_count": 27,
      "outputs": []
    },
    {
      "cell_type": "code",
      "source": [
        "I = range(len(coef_funcao_objetivo))\n",
        "m = Model(\"knapsack\")"
      ],
      "metadata": {
        "id": "mOR77ZEcsIIY"
      },
      "execution_count": 28,
      "outputs": []
    },
    {
      "cell_type": "code",
      "source": [
        "x = [m.add_var(var_type=BINARY) for i in I]"
      ],
      "metadata": {
        "id": "92MovWA8sNxL"
      },
      "execution_count": 29,
      "outputs": []
    },
    {
      "cell_type": "code",
      "source": [
        "m.objective = maximize(xsum(coef_funcao_objetivo[i] * x[i] for i in I))\n"
      ],
      "metadata": {
        "id": "D0U6LhKTsqIk"
      },
      "execution_count": 30,
      "outputs": []
    },
    {
      "cell_type": "code",
      "source": [
        "m += xsum(coef_restr[i] * x[i] for i in I) <= termo_independente\n",
        "print(f'O modelo tem {m.num_cols} variável(eis), {m.num_rows} restrição(ões) e {m.num_nz} nãozero(s)')"
      ],
      "metadata": {
        "colab": {
          "base_uri": "https://localhost:8080/"
        },
        "id": "x5mHooPRst_u",
        "outputId": "cdfe013c-7ee4-48c7-dd85-d177a15726e5"
      },
      "execution_count": 31,
      "outputs": [
        {
          "output_type": "stream",
          "name": "stdout",
          "text": [
            "O modelo tem 5 variável(eis), 1 restrição(ões) e 5 nãozero(s)\n"
          ]
        }
      ]
    },
    {
      "cell_type": "code",
      "source": [
        "status = m.optimize(max_seconds=2)\n"
      ],
      "metadata": {
        "id": "a1owPAoftV6y"
      },
      "execution_count": 32,
      "outputs": []
    },
    {
      "cell_type": "code",
      "source": [
        "status == OptimizationStatus.OPTIMAL\n"
      ],
      "metadata": {
        "colab": {
          "base_uri": "https://localhost:8080/"
        },
        "id": "XF9lxZJitSK4",
        "outputId": "0a24a822-a513-4d80-d485-18bbf757eeea"
      },
      "execution_count": 33,
      "outputs": [
        {
          "output_type": "execute_result",
          "data": {
            "text/plain": [
              "True"
            ]
          },
          "metadata": {},
          "execution_count": 33
        }
      ]
    },
    {
      "cell_type": "code",
      "source": [
        "itens_selecionados = [\"x\"+str(i+1) for i in I if x[i].x >= 0.99]\n",
        "print(\"Itens selecionados: {}\".format(itens_selecionados))"
      ],
      "metadata": {
        "colab": {
          "base_uri": "https://localhost:8080/"
        },
        "id": "ANZk43YmtZ8L",
        "outputId": "2dc7d75f-c70b-483f-dfaf-5d7d30b8bcde"
      },
      "execution_count": 34,
      "outputs": [
        {
          "output_type": "stream",
          "name": "stdout",
          "text": [
            "Itens selecionados: ['x2', 'x3', 'x4', 'x5']\n"
          ]
        }
      ]
    },
    {
      "cell_type": "markdown",
      "source": [
        "Conclusão: devemos colocar o x2, x3, x4 e x5 na mochila."
      ],
      "metadata": {
        "id": "gloS10BVt8PF"
      }
    }
  ]
}